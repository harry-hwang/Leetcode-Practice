{
 "cells": [
  {
   "cell_type": "markdown",
   "metadata": {},
   "source": [
    "# 14. Longest Common Prefix"
   ]
  },
  {
   "cell_type": "markdown",
   "metadata": {},
   "source": [
    "https://leetcode.com/problems/longest-common-prefix/"
   ]
  },
  {
   "cell_type": "code",
   "execution_count": 2,
   "metadata": {},
   "outputs": [],
   "source": [
    "class Solution:\n",
    "    def longestCommonPrefix(self, strs):\n",
    "        '''\n",
    "        首先要懂題目prefix的意思：中文是前綴\n",
    "        簡單講就是每個字的開頭部分，所以這裡的意思是開頭開始算起，最長共同的字母\n",
    "        \n",
    "        需要一個result來存放string\n",
    "        \n",
    "        corner case所以\n",
    "            if len(strs)==0:\n",
    "                return ''\n",
    "        \n",
    "        要有一個基準字串：\n",
    "        用第一個string來當基準字串去比較 從第二個到最後(固定長度的for回圈)\n",
    "            當我的基準字串 長得跟我正在看的這個不一樣的話(只比較跟基準字串一樣的長度內): (while迴圈)\n",
    "                我就把基準的長度-1 (持續更新)\n",
    "                如果基準字串長度=0了: (提早結束)\n",
    "                    return ''\n",
    "        return 基準字串\n",
    "        '''\n",
    "        if len(strs)==0:\n",
    "            return ''\n",
    "        \n",
    "        standard = strs[0]\n",
    "        \n",
    "        for i in range(1,len(strs)):\n",
    "            while standard!=strs[i][:len(standard)]:\n",
    "                standard = standard[:-1]\n",
    "                if len(standard)==0:\n",
    "                    return ''\n",
    "        return standard\n",
    "            "
   ]
  },
  {
   "cell_type": "markdown",
   "metadata": {},
   "source": [
    "# Practice"
   ]
  },
  {
   "cell_type": "code",
   "execution_count": 4,
   "metadata": {},
   "outputs": [],
   "source": [
    "class Solution:\n",
    "    def longestCommonPrefix(self, strs):\n",
    "        if len(strs)==0:\n",
    "            return ''\n",
    "        standard = strs[0]\n",
    "        \n",
    "        for i in range(1, len(strs)):\n",
    "            while standard != strs[i][:len(standard)]:\n",
    "                standard = standard[:-1]\n",
    "                if len(standard)==0:\n",
    "                    return ''\n",
    "        return standard"
   ]
  },
  {
   "cell_type": "code",
   "execution_count": null,
   "metadata": {},
   "outputs": [],
   "source": []
  }
 ],
 "metadata": {
  "kernelspec": {
   "display_name": "Python 3",
   "language": "python",
   "name": "python3"
  },
  "language_info": {
   "codemirror_mode": {
    "name": "ipython",
    "version": 3
   },
   "file_extension": ".py",
   "mimetype": "text/x-python",
   "name": "python",
   "nbconvert_exporter": "python",
   "pygments_lexer": "ipython3",
   "version": "3.7.4"
  }
 },
 "nbformat": 4,
 "nbformat_minor": 2
}
