{
 "cells": [
  {
   "cell_type": "markdown",
   "metadata": {},
   "source": [
    "# 7. Reverse Integer"
   ]
  },
  {
   "cell_type": "code",
   "execution_count": 1,
   "metadata": {},
   "outputs": [
    {
     "data": {
      "text/plain": [
       "'\\nGiven a 32-bit signed integer, reverse digits of an integer.\\n\\nExample 1:\\n\\nInput: 123\\nOutput: 321\\n\\nExample 2:\\n\\nInput: -123\\nOutput: -321\\n\\nExample 3:\\n\\nInput: 120\\nOutput: 21\\n\\nNote:\\nAssume we are dealing with an environment which could only store integers \\nwithin the 32-bit signed integer range: [−231,  231 − 1]. For the purpose of this problem, \\nassume that your function returns 0 when the reversed integer overflows.\\n'"
      ]
     },
     "execution_count": 1,
     "metadata": {},
     "output_type": "execute_result"
    }
   ],
   "source": [
    "'''\n",
    "Given a 32-bit signed integer, reverse digits of an integer.\n",
    "\n",
    "Example 1:\n",
    "\n",
    "Input: 123\n",
    "Output: 321\n",
    "\n",
    "Example 2:\n",
    "\n",
    "Input: -123\n",
    "Output: -321\n",
    "\n",
    "Example 3:\n",
    "\n",
    "Input: 120\n",
    "Output: 21\n",
    "\n",
    "Note:\n",
    "Assume we are dealing with an environment which could only store integers \n",
    "within the 32-bit signed integer range: [−231,  231 − 1]. For the purpose of this problem, \n",
    "assume that your function returns 0 when the reversed integer overflows.\n",
    "'''"
   ]
  },
  {
   "cell_type": "code",
   "execution_count": 3,
   "metadata": {},
   "outputs": [],
   "source": [
    "# 寫法1\n",
    "class Solution:\n",
    "    def reverse(self, x: int) -> int:\n",
    "        \n",
    "        if len(str(x)) == 1:  # corner case 只有一位數的數字那就是直接return\n",
    "            return x\n",
    "        \n",
    "        rs = str(x)[::-1]  # reverse\n",
    "        if rs[-1] == '-':  #如果是負的數字\n",
    "            if int(rs[-1]+rs[:-1]) > -2 **31:\n",
    "                return int(rs[-1]+rs[:-1])\n",
    "            else:\n",
    "                return 0\n",
    "        else:  #如果是正的數字\n",
    "            if int(rs)< 2**31:\n",
    "                return int(rs)\n",
    "            else:\n",
    "                return 0"
   ]
  },
  {
   "cell_type": "code",
   "execution_count": 4,
   "metadata": {},
   "outputs": [],
   "source": [
    "#寫法2\n",
    "class Solution:\n",
    "    def reverse(self, x: int) -> int:\n",
    "        rs = str(x)[::-1]\n",
    "        zero = 0\n",
    "        if len(str(x))==1:\n",
    "            return x\n",
    "        else:\n",
    "            if rs[-1]=='-':\n",
    "                return int(rs[-1]+rs[:-1]) if int(rs[-1]+rs[:-1]) > -2 **31 else 0\n",
    "            else:\n",
    "                return int(rs) if int(rs)< 2**31 else 0"
   ]
  },
  {
   "cell_type": "markdown",
   "metadata": {},
   "source": [
    "# Practice"
   ]
  },
  {
   "cell_type": "code",
   "execution_count": 6,
   "metadata": {},
   "outputs": [],
   "source": [
    "class Solution:\n",
    "    def reverse(self, x):\n",
    "        if len(str(x)) == 1:\n",
    "            return x\n",
    "        \n",
    "        rs = str(x)[::-1]\n",
    "        \n",
    "        if rs[-1] == '-':\n",
    "            return int(rs[-1]+rs[:-1]) if int(rs[-1]++rs[:-1]) > -2**31 else 0\n",
    "        else:\n",
    "            return int(rs) if int(rs) < 2**31 else 0"
   ]
  },
  {
   "cell_type": "code",
   "execution_count": null,
   "metadata": {},
   "outputs": [],
   "source": []
  }
 ],
 "metadata": {
  "kernelspec": {
   "display_name": "Python 3",
   "language": "python",
   "name": "python3"
  },
  "language_info": {
   "codemirror_mode": {
    "name": "ipython",
    "version": 3
   },
   "file_extension": ".py",
   "mimetype": "text/x-python",
   "name": "python",
   "nbconvert_exporter": "python",
   "pygments_lexer": "ipython3",
   "version": "3.7.4"
  }
 },
 "nbformat": 4,
 "nbformat_minor": 2
}
