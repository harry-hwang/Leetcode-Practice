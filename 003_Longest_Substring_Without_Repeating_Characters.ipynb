{
 "cells": [
  {
   "cell_type": "markdown",
   "metadata": {},
   "source": [
    "# 3. Longest Substring Without Repeating Characters"
   ]
  },
  {
   "cell_type": "code",
   "execution_count": 1,
   "metadata": {},
   "outputs": [
    {
     "data": {
      "text/plain": [
       "'\\nGiven a string, find the length of the longest substring without repeating characters.\\n\\nExample 1:\\n\\nInput: \"abcabcbb\"\\nOutput: 3 \\nExplanation: The answer is \"abc\", with the length of 3. \\nExample 2:\\n\\nInput: \"bbbbb\"\\nOutput: 1\\nExplanation: The answer is \"b\", with the length of 1.\\nExample 3:\\n\\nInput: \"pwwkew\"\\nOutput: 3\\nExplanation: The answer is \"wke\", with the length of 3. \\n             Note that the answer must be a substring, \"pwke\" is a subsequence and not a substring.\\n'"
      ]
     },
     "execution_count": 1,
     "metadata": {},
     "output_type": "execute_result"
    }
   ],
   "source": [
    "'''\n",
    "Given a string, find the length of the longest substring without repeating characters.\n",
    "\n",
    "Example 1:\n",
    "\n",
    "Input: \"abcabcbb\"\n",
    "Output: 3 \n",
    "Explanation: The answer is \"abc\", with the length of 3. \n",
    "Example 2:\n",
    "\n",
    "Input: \"bbbbb\"\n",
    "Output: 1\n",
    "Explanation: The answer is \"b\", with the length of 1.\n",
    "Example 3:\n",
    "\n",
    "Input: \"pwwkew\"\n",
    "Output: 3\n",
    "Explanation: The answer is \"wke\", with the length of 3. \n",
    "             Note that the answer must be a substring, \"pwke\" is a subsequence and not a substring.\n",
    "'''"
   ]
  },
  {
   "cell_type": "code",
   "execution_count": 8,
   "metadata": {},
   "outputs": [],
   "source": [
    "class Solution:\n",
    "    def lengthOfLongestSubstring(self, s: str) -> int:\n",
    "        \n",
    "        '''\n",
    "        需要一個dict 去記錄每個character的位置 如果有重複 要重新計算start的這個pointer\n",
    "        一個指針 遇到重複的character要做改變\n",
    "        '''\n",
    "       \n",
    "        start = -1\n",
    "        summ = 0\n",
    "        d = {}\n",
    "        for i in range(len(s)):\n",
    "            if s[i] in d and d[s[i]] > start:  # 遇到重複的了\n",
    "                start = d[s[i]]  # 頭要改變\n",
    "                d[s[i]] = i  # 把當下的位置更新進重複的字母中\n",
    "            else:\n",
    "                d[s[i]] = i  # 放進dic中\n",
    "                summ = max(i-start, summ)\n",
    "        return summ\n",
    "                "
   ]
  },
  {
   "cell_type": "markdown",
   "metadata": {},
   "source": [
    "# Practice"
   ]
  },
  {
   "cell_type": "code",
   "execution_count": 3,
   "metadata": {},
   "outputs": [],
   "source": [
    "class Solution:\n",
    "    def lengthOfLongestSubstring(self, s):\n",
    "        \n",
    "        start = -1\n",
    "        cur_length = 0\n",
    "        d = {}\n",
    "        \n",
    "        for i in range(len(s)):\n",
    "            if s[i] in d and d[s[i]] > start:\n",
    "                start = d[s[i]]\n",
    "                d[s[i]] = i\n",
    "            else:\n",
    "                d[s[i]] = i\n",
    "                cur_length = max(i-start, cur_length)\n",
    "        return cur_length"
   ]
  },
  {
   "cell_type": "code",
   "execution_count": 4,
   "metadata": {},
   "outputs": [],
   "source": [
    "class Solution:\n",
    "    def lengthOfLongestSubstring(self, s):\n",
    "        start = -1\n",
    "        out = 0\n",
    "        d = {}\n",
    "        for i in range(len(s)):\n",
    "            if s[i] in d and d[s[i]] > start:\n",
    "                start = d[s[i]]\n",
    "                d[s[i]] = i\n",
    "            else:\n",
    "                d[s[i]] = i\n",
    "                out = max(i-start, out)\n",
    "        return out"
   ]
  },
  {
   "cell_type": "code",
   "execution_count": 7,
   "metadata": {},
   "outputs": [],
   "source": [
    "class Solution:\n",
    "    def lengthOfLongestSubstring(self, s):\n",
    "        start = -1\n",
    "        summ = 0\n",
    "        d = {}\n",
    "        for i in range(len(s)):\n",
    "            if s[i] in d and d[s[i]] > start:\n",
    "                start = d[s[i]]\n",
    "                d[s[i]] = i\n",
    "            else:\n",
    "                d[s[i]] = i\n",
    "                summ = max(summ, i-start)\n",
    "        return summ"
   ]
  },
  {
   "cell_type": "code",
   "execution_count": null,
   "metadata": {},
   "outputs": [],
   "source": []
  }
 ],
 "metadata": {
  "kernelspec": {
   "display_name": "Python 3",
   "language": "python",
   "name": "python3"
  },
  "language_info": {
   "codemirror_mode": {
    "name": "ipython",
    "version": 3
   },
   "file_extension": ".py",
   "mimetype": "text/x-python",
   "name": "python",
   "nbconvert_exporter": "python",
   "pygments_lexer": "ipython3",
   "version": "3.7.4"
  }
 },
 "nbformat": 4,
 "nbformat_minor": 2
}
