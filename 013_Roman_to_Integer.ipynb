{
 "cells": [
  {
   "cell_type": "markdown",
   "metadata": {},
   "source": [
    "# 13. Roman to Integer"
   ]
  },
  {
   "cell_type": "markdown",
   "metadata": {},
   "source": [
    "https://leetcode.com/problems/roman-to-integer/"
   ]
  },
  {
   "cell_type": "code",
   "execution_count": 1,
   "metadata": {},
   "outputs": [],
   "source": [
    "class Solution:\n",
    "    def romanToInt(self, s: str) -> int:\n",
    "        '''\n",
    "        首先要有一個out來存放結果\n",
    "        \n",
    "        需要先把所有特例找出來\n",
    "            所以需要創兩個dict分別放正常的和特例\n",
    "        \n",
    "        如果[i:i+2] (連續的兩個) 不在special dict裡面的話\n",
    "        那就把val[[s[i]]的數字加到out裡面，i+=1\n",
    "        \n",
    "        反之如果在special裡面的話\n",
    "        就把special[s[i:i+2]]放進Out裡面，i+=2\n",
    "        \n",
    "        需要有個i當指針\n",
    "        '''\n",
    "        \n",
    "        val = {\"I\":1, \"V\":5, \"X\":10, \"L\":50, \"C\":100, \"D\":500, \"M\":1000}\n",
    "        special = {\"IV\":4, \"IX\":9, \"XL\":40, \"XC\":90, \"CD\":400, \"CM\":900}\n",
    "        \n",
    "        out = 0\n",
    "        i = 0\n",
    "        while i < len(s):\n",
    "            if s[i:i+2] in special:\n",
    "                out += special[s[i:i+2]]\n",
    "                i+=2\n",
    "            elif s[i] in val:\n",
    "                out += val[s[i]]\n",
    "                i+=1\n",
    "        return out"
   ]
  },
  {
   "cell_type": "markdown",
   "metadata": {},
   "source": [
    "# Practice"
   ]
  },
  {
   "cell_type": "code",
   "execution_count": 2,
   "metadata": {},
   "outputs": [],
   "source": [
    "class Solution:\n",
    "    def romanToInt(self, s):\n",
    "        val = {\"I\":1, \"V\":5, \"X\":10, \"L\":50, \"C\":100, \"D\":500, \"M\":1000}\n",
    "        special = {\"IV\":4, \"IX\":9, \"XL\":40, \"XC\":90, \"CD\":400, \"CM\":900}\n",
    "        out = 0\n",
    "        i = 0\n",
    "        while i < len(s):\n",
    "            if s[i:i+2] in special:\n",
    "                out += special[s[i:i+2]]\n",
    "                i+=2\n",
    "            elif s[i] in val:\n",
    "                out += val[s[i]]\n",
    "                i+=1\n",
    "        return out"
   ]
  },
  {
   "cell_type": "code",
   "execution_count": null,
   "metadata": {},
   "outputs": [],
   "source": []
  }
 ],
 "metadata": {
  "kernelspec": {
   "display_name": "Python 3",
   "language": "python",
   "name": "python3"
  },
  "language_info": {
   "codemirror_mode": {
    "name": "ipython",
    "version": 3
   },
   "file_extension": ".py",
   "mimetype": "text/x-python",
   "name": "python",
   "nbconvert_exporter": "python",
   "pygments_lexer": "ipython3",
   "version": "3.7.4"
  }
 },
 "nbformat": 4,
 "nbformat_minor": 2
}
