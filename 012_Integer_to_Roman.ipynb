{
 "cells": [
  {
   "cell_type": "markdown",
   "metadata": {},
   "source": [
    "# 12. Integer to Roman"
   ]
  },
  {
   "cell_type": "markdown",
   "metadata": {},
   "source": [
    "https://leetcode.com/problems/integer-to-roman/"
   ]
  },
  {
   "cell_type": "markdown",
   "metadata": {},
   "source": [
    "感覺不是很好的題目"
   ]
  },
  {
   "cell_type": "code",
   "execution_count": 1,
   "metadata": {},
   "outputs": [],
   "source": [
    "class Solution:\n",
    "    def intToRoman(self, num: int) -> str:\n",
    "        '''\n",
    "        最直覺的方式就找特例吧\n",
    "        把特例寫出來(只有少數幾個是用減去的方式)\n",
    "        也把所有字母寫出來\n",
    "        用兩個array分別存字母跟數字(不使用dict因為需要有順序)\n",
    "        當num>0的時候就從integer最大的開始檢查\n",
    "            如果num小於對應的數字的話就一直往下看\n",
    "            找到比它大的了就把對應的字母加進result裡面，然後num-那個數字在帶進去一次\n",
    "            直到num變成0 \n",
    "            只是這樣\n",
    "        '''\n",
    "        \n",
    "        word = ['M', 'CM', 'D', 'CD', 'C', 'XC', 'L', 'XL', 'X', 'IX', 'V', 'IV', 'I']\n",
    "        integer = [1000, 900, 500, 400, 100, 90, 50, 40, 10, 9, 5, 4, 1]\n",
    "        result = ''\n",
    "        while num>0:\n",
    "            i = 0\n",
    "            while i < len(integer)-1 and num < integer[i]:\n",
    "                i += 1\n",
    "            num -= integer[i]\n",
    "            result += word[i]\n",
    "        \n",
    "        return result"
   ]
  },
  {
   "cell_type": "code",
   "execution_count": 2,
   "metadata": {},
   "outputs": [],
   "source": [
    "# 看到有人這樣寫，滿有趣\n",
    "'''\n",
    "直接用正常方式計算後得出的結果\n",
    "之後再逐一把特例給替換掉\n",
    "'''\n",
    "\n",
    "class Solution:\n",
    "    def intToRoman(self, num: int) -> str:\n",
    "        m, remainder = divmod(num, 1000)\n",
    "        d, remainder = divmod(remainder, 500)\n",
    "        c, remainder = divmod(remainder, 100)\n",
    "        l, remainder = divmod(remainder, 50)\n",
    "        x, remainder = divmod(remainder, 10)\n",
    "        v, i = divmod(remainder, 5)\n",
    "        \n",
    "        roman = \"M\"*m + \"D\"*d + \"C\"*c + \"L\"*l + \"X\"*x + \"V\"*v + \"I\"*i\n",
    "        roman = roman.replace(\"DCCCC\", \"CM\").replace(\"CCCC\", \"CD\")\n",
    "        roman = roman.replace(\"LXXXX\", \"XC\").replace(\"XXXX\", \"XL\")\n",
    "        roman = roman.replace(\"VIIII\", \"IX\").replace(\"IIII\", \"IV\")\n",
    "        \n",
    "        return roman"
   ]
  },
  {
   "cell_type": "code",
   "execution_count": null,
   "metadata": {},
   "outputs": [],
   "source": []
  }
 ],
 "metadata": {
  "kernelspec": {
   "display_name": "Python 3",
   "language": "python",
   "name": "python3"
  },
  "language_info": {
   "codemirror_mode": {
    "name": "ipython",
    "version": 3
   },
   "file_extension": ".py",
   "mimetype": "text/x-python",
   "name": "python",
   "nbconvert_exporter": "python",
   "pygments_lexer": "ipython3",
   "version": "3.7.4"
  }
 },
 "nbformat": 4,
 "nbformat_minor": 2
}
