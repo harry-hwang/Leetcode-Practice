{
 "cells": [
  {
   "cell_type": "markdown",
   "metadata": {},
   "source": [
    "# 11. Container With Most Water"
   ]
  },
  {
   "cell_type": "markdown",
   "metadata": {},
   "source": [
    "https://leetcode.com/problems/container-with-most-water/"
   ]
  },
  {
   "cell_type": "code",
   "execution_count": 1,
   "metadata": {},
   "outputs": [
    {
     "data": {
      "text/plain": [
       "'\\nhttps://leetcode.com/problems/container-with-most-water/\\n\\nGiven n non-negative integers a1, a2, ..., an , where each represents a point at coordinate (i, ai). n vertical lines are drawn such that the two endpoints of line i is at (i, ai) and (i, 0). Find two lines, which together with x-axis forms a container, such that the container contains the most water.\\n\\nNote: You may not slant the container and n is at least 2.\\n\\n \\n\\n\\n\\nThe above vertical lines are represented by array [1,8,6,2,5,4,8,3,7]. \\nIn this case, the max area of water (blue section) the container can contain is 49.\\n\\n \\n\\nExample:\\n\\nInput: [1,8,6,2,5,4,8,3,7]\\nOutput: 49\\n'"
      ]
     },
     "execution_count": 1,
     "metadata": {},
     "output_type": "execute_result"
    }
   ],
   "source": [
    "'''\n",
    "\n",
    "Given n non-negative integers a1, a2, ..., an , where each represents a point at coordinate (i, ai). n vertical lines are drawn such that the two endpoints of line i is at (i, ai) and (i, 0). Find two lines, which together with x-axis forms a container, such that the container contains the most water.\n",
    "\n",
    "Note: You may not slant the container and n is at least 2.\n",
    "\n",
    " \n",
    "\n",
    "\n",
    "\n",
    "The above vertical lines are represented by array [1,8,6,2,5,4,8,3,7]. \n",
    "In this case, the max area of water (blue section) the container can contain is 49.\n",
    "\n",
    " \n",
    "\n",
    "Example:\n",
    "\n",
    "Input: [1,8,6,2,5,4,8,3,7]\n",
    "Output: 49\n",
    "'''"
   ]
  },
  {
   "cell_type": "code",
   "execution_count": 3,
   "metadata": {},
   "outputs": [],
   "source": [
    "class Solution:\n",
    "    def maxArea(self, height):\n",
    "        '''\n",
    "        想法：一個指針在頭，一個指針在尾，\n",
    "        while 當頭<尾:\n",
    "            算面積，面積 = max(面積, 新面積)\n",
    "            看頭尾哪一個小，頭小的話頭+=1, 尾小的話尾-=1\n",
    "        當頭=尾：return 面積\n",
    "        '''\n",
    "        head, tail = 0, len(height)-1\n",
    "        area = 0\n",
    "        \n",
    "        while head<tail:\n",
    "            area = max( min(height[head],height[tail]) * (tail-head), area)\n",
    "            if height[head]>height[tail]:\n",
    "                tail -= 1\n",
    "            else:\n",
    "                head+=1\n",
    "        return area"
   ]
  },
  {
   "cell_type": "markdown",
   "metadata": {},
   "source": [
    "# Practice"
   ]
  },
  {
   "cell_type": "code",
   "execution_count": 4,
   "metadata": {},
   "outputs": [],
   "source": [
    "class Solution:\n",
    "    def maxArea(self, height):\n",
    "        left, right = 0, len(height)-1\n",
    "        area = 0\n",
    "        \n",
    "        while left < right:\n",
    "            area= max(area, min(height[left], height[right]) * (right-left))\n",
    "            if height[left]>height[right]:\n",
    "                right -= 1\n",
    "            else:\n",
    "                left += 1\n",
    "        return area"
   ]
  },
  {
   "cell_type": "code",
   "execution_count": null,
   "metadata": {},
   "outputs": [],
   "source": []
  }
 ],
 "metadata": {
  "kernelspec": {
   "display_name": "Python 3",
   "language": "python",
   "name": "python3"
  },
  "language_info": {
   "codemirror_mode": {
    "name": "ipython",
    "version": 3
   },
   "file_extension": ".py",
   "mimetype": "text/x-python",
   "name": "python",
   "nbconvert_exporter": "python",
   "pygments_lexer": "ipython3",
   "version": "3.7.4"
  }
 },
 "nbformat": 4,
 "nbformat_minor": 2
}
