{
 "cells": [
  {
   "cell_type": "markdown",
   "metadata": {},
   "source": [
    "# 8. String to Integer (atoi)"
   ]
  },
  {
   "cell_type": "markdown",
   "metadata": {},
   "source": [
    "## 廢物題"
   ]
  },
  {
   "cell_type": "code",
   "execution_count": 2,
   "metadata": {},
   "outputs": [
    {
     "data": {
      "text/plain": [
       "'\\nImplement atoi which converts a string to an integer.\\n\\nThe function first discards as many whitespace characters as necessary until the first non-whitespace character is found. Then, starting from this character, takes an optional initial plus or minus sign followed by as many numerical digits as possible, and interprets them as a numerical value.\\n\\nThe string can contain additional characters after those that form the integral number, which are ignored and have no effect on the behavior of this function.\\n\\nIf the first sequence of non-whitespace characters in str is not a valid integral number, or if no such sequence exists because either str is empty or it contains only whitespace characters, no conversion is performed.\\n\\nIf no valid conversion could be performed, a zero value is returned.\\n\\nNote:\\n\\nOnly the space character \\' \\' is considered as whitespace character.\\nAssume we are dealing with an environment which could only store integers within the 32-bit signed integer range: [−231,  231 − 1]. If the numerical value is out of the range of representable values, INT_MAX (231 − 1) or INT_MIN (−231) is returned.\\nExample 1:\\n\\nInput: \"42\"\\nOutput: 42\\nExample 2:\\n\\nInput: \"   -42\"\\nOutput: -42\\nExplanation: The first non-whitespace character is \\'-\\', which is the minus sign.\\n             Then take as many numerical digits as possible, which gets 42.\\nExample 3:\\n\\nInput: \"4193 with words\"\\nOutput: 4193\\nExplanation: Conversion stops at digit \\'3\\' as the next character is not a numerical digit.\\nExample 4:\\n\\nInput: \"words and 987\"\\nOutput: 0\\nExplanation: The first non-whitespace character is \\'w\\', which is not a numerical \\n             digit or a +/- sign. Therefore no valid conversion could be performed.\\nExample 5:\\n\\nInput: \"-91283472332\"\\nOutput: -2147483648\\nExplanation: The number \"-91283472332\" is out of the range of a 32-bit signed integer.\\n             Thefore INT_MIN (−231) is returned.\\n'"
      ]
     },
     "execution_count": 2,
     "metadata": {},
     "output_type": "execute_result"
    }
   ],
   "source": [
    "'''\n",
    "Implement atoi which converts a string to an integer.\n",
    "\n",
    "The function first discards as many whitespace characters as necessary until the first non-whitespace character is found. Then, starting from this character, takes an optional initial plus or minus sign followed by as many numerical digits as possible, and interprets them as a numerical value.\n",
    "\n",
    "The string can contain additional characters after those that form the integral number, which are ignored and have no effect on the behavior of this function.\n",
    "\n",
    "If the first sequence of non-whitespace characters in str is not a valid integral number, or if no such sequence exists because either str is empty or it contains only whitespace characters, no conversion is performed.\n",
    "\n",
    "If no valid conversion could be performed, a zero value is returned.\n",
    "\n",
    "Note:\n",
    "\n",
    "Only the space character ' ' is considered as whitespace character.\n",
    "Assume we are dealing with an environment which could only store integers within the 32-bit signed integer range: [−231,  231 − 1]. If the numerical value is out of the range of representable values, INT_MAX (231 − 1) or INT_MIN (−231) is returned.\n",
    "Example 1:\n",
    "\n",
    "Input: \"42\"\n",
    "Output: 42\n",
    "Example 2:\n",
    "\n",
    "Input: \"   -42\"\n",
    "Output: -42\n",
    "Explanation: The first non-whitespace character is '-', which is the minus sign.\n",
    "             Then take as many numerical digits as possible, which gets 42.\n",
    "Example 3:\n",
    "\n",
    "Input: \"4193 with words\"\n",
    "Output: 4193\n",
    "Explanation: Conversion stops at digit '3' as the next character is not a numerical digit.\n",
    "Example 4:\n",
    "\n",
    "Input: \"words and 987\"\n",
    "Output: 0\n",
    "Explanation: The first non-whitespace character is 'w', which is not a numerical \n",
    "             digit or a +/- sign. Therefore no valid conversion could be performed.\n",
    "Example 5:\n",
    "\n",
    "Input: \"-91283472332\"\n",
    "Output: -2147483648\n",
    "Explanation: The number \"-91283472332\" is out of the range of a 32-bit signed integer.\n",
    "             Thefore INT_MIN (−231) is returned.\n",
    "'''"
   ]
  },
  {
   "cell_type": "code",
   "execution_count": 1,
   "metadata": {},
   "outputs": [],
   "source": [
    "class Solution(object):\n",
    "    def myAtoi(self, str):\n",
    "        \"\"\"\n",
    "        :type str: str\n",
    "        :rtype: int\n",
    "        \"\"\"\n",
    "        temp = str.strip()\n",
    "        if not temp:\n",
    "            return 0\n",
    "        negative = False\n",
    "        resint = 0\n",
    "        head = temp[0]\n",
    "        if head == \"-\":\n",
    "            negative = True\n",
    "        elif head == \"+\":\n",
    "            negative = False\n",
    "        elif not head.isnumeric():\n",
    "            return 0\n",
    "        else:\n",
    "            resint += ord(head) - ord('0')\n",
    "        for i in range(1,len(temp)):\n",
    "            if temp[i].isnumeric():\n",
    "                resint = 10*resint + ord(temp[i]) - ord('0')\n",
    "                if not negative and resint >= 2147483647:\n",
    "                    return 2147483647\n",
    "                if negative and resint >= 2147483648:\n",
    "                    return -2147483648\n",
    "            else:\n",
    "                break\n",
    "        if not negative:\n",
    "            return resint\n",
    "        else:\n",
    "            return -resint"
   ]
  }
 ],
 "metadata": {
  "kernelspec": {
   "display_name": "Python 3",
   "language": "python",
   "name": "python3"
  },
  "language_info": {
   "codemirror_mode": {
    "name": "ipython",
    "version": 3
   },
   "file_extension": ".py",
   "mimetype": "text/x-python",
   "name": "python",
   "nbconvert_exporter": "python",
   "pygments_lexer": "ipython3",
   "version": "3.7.4"
  }
 },
 "nbformat": 4,
 "nbformat_minor": 2
}
