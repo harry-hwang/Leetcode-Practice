{
 "cells": [
  {
   "cell_type": "markdown",
   "metadata": {},
   "source": [
    "# 6. ZigZag Conversion"
   ]
  },
  {
   "cell_type": "code",
   "execution_count": 1,
   "metadata": {},
   "outputs": [
    {
     "data": {
      "text/plain": [
       "'\\nThe string \"PAYPALISHIRING\" is written in a zigzag pattern on a given number of rows like this: (you may want to display this pattern in a fixed font for better legibility)\\n\\nP   A   H   N\\nA P L S I I G\\nY   I   R\\nAnd then read line by line: \"PAHNAPLSIIGYIR\"\\n\\nWrite the code that will take a string and make this conversion given a number of rows:\\n\\nstring convert(string s, int numRows);\\nExample 1:\\n\\nInput: s = \"PAYPALISHIRING\", numRows = 3\\nOutput: \"PAHNAPLSIIGYIR\"\\nExample 2:\\n\\nInput: s = \"PAYPALISHIRING\", numRows = 4\\nOutput: \"PINALSIGYAHRPI\"\\nExplanation:\\n\\nP     I    N\\nA   L S  I G\\nY A   H R\\nP     I\\n'"
      ]
     },
     "execution_count": 1,
     "metadata": {},
     "output_type": "execute_result"
    }
   ],
   "source": [
    "'''\n",
    "The string \"PAYPALISHIRING\" is written in a zigzag pattern on a given number of rows like this: (you may want to display this pattern in a fixed font for better legibility)\n",
    "\n",
    "P   A   H   N\n",
    "A P L S I I G\n",
    "Y   I   R\n",
    "And then read line by line: \"PAHNAPLSIIGYIR\"\n",
    "\n",
    "Write the code that will take a string and make this conversion given a number of rows:\n",
    "\n",
    "string convert(string s, int numRows);\n",
    "Example 1:\n",
    "\n",
    "Input: s = \"PAYPALISHIRING\", numRows = 3\n",
    "Output: \"PAHNAPLSIIGYIR\"\n",
    "Example 2:\n",
    "\n",
    "Input: s = \"PAYPALISHIRING\", numRows = 4\n",
    "Output: \"PINALSIGYAHRPI\"\n",
    "Explanation:\n",
    "\n",
    "P     I    N\n",
    "A   L S  I G\n",
    "Y A   H R\n",
    "P     I\n",
    "'''"
   ]
  },
  {
   "cell_type": "code",
   "execution_count": null,
   "metadata": {},
   "outputs": [],
   "source": [
    "'''\n",
    "首先，有幾個numRows就要幾個空的string\n",
    "然後放進一個list裡面 (因為list比較好操作)\n",
    "['', '', ''] ---> 多少numRows就多少空的string\n",
    "\n",
    "需要一個var來記錄現在走到第幾階了\n",
    "row = 0\n",
    "還需要一個var來記錄現在的方向是往下走還往上走\n",
    "direction = 1 (往下走)\n",
    "direction = -1 (往上走)\n",
    "\n",
    "每次要做的事情就是把當前的letter加進\n",
    "string[row]裡面\n",
    "然後每次row要加上direction來記錄走到哪了\n",
    "當row = numRows-1時(代表走到底了)\n",
    "就要把direction改成-1\n",
    "這樣在每次row要加上direction時，就變成往0的方向走了\n",
    "當row = 0時，在把direction變成1\n",
    "'''"
   ]
  },
  {
   "cell_type": "code",
   "execution_count": 5,
   "metadata": {},
   "outputs": [],
   "source": [
    "class Solution:\n",
    "    def convert(self, s, numRows):\n",
    "        if numRows == 1 or numRows>=len(s):\n",
    "            return s\n",
    "        \n",
    "        string = ['']*numRows\n",
    "        row = 0\n",
    "        direction = 1\n",
    "        for letter in s:\n",
    "            string[row] += letter\n",
    "            if row == 0:\n",
    "                direction = 1\n",
    "            elif row == numRows-1:\n",
    "                direction = -1\n",
    "            row += direction\n",
    "        return ''.join(string)"
   ]
  },
  {
   "cell_type": "code",
   "execution_count": null,
   "metadata": {},
   "outputs": [],
   "source": []
  }
 ],
 "metadata": {
  "kernelspec": {
   "display_name": "Python 3",
   "language": "python",
   "name": "python3"
  },
  "language_info": {
   "codemirror_mode": {
    "name": "ipython",
    "version": 3
   },
   "file_extension": ".py",
   "mimetype": "text/x-python",
   "name": "python",
   "nbconvert_exporter": "python",
   "pygments_lexer": "ipython3",
   "version": "3.7.4"
  }
 },
 "nbformat": 4,
 "nbformat_minor": 2
}
