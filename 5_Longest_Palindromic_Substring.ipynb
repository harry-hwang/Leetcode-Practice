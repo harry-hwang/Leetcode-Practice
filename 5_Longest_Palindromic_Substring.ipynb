{
 "cells": [
  {
   "cell_type": "markdown",
   "metadata": {},
   "source": [
    "# 5. Longest Palindromic Substring (找迴文)\n",
    "常考"
   ]
  },
  {
   "cell_type": "code",
   "execution_count": 1,
   "metadata": {},
   "outputs": [
    {
     "data": {
      "text/plain": [
       "'\\nGiven a string s, find the longest palindromic substring in s. You may assume that the maximum length of s is 1000.\\n\\nExample 1:\\n\\nInput: \"babad\"\\nOutput: \"bab\"\\nNote: \"aba\" is also a valid answer.\\nExample 2:\\n\\nInput: \"cbbd\"\\nOutput: \"bb\"\\n'"
      ]
     },
     "execution_count": 1,
     "metadata": {},
     "output_type": "execute_result"
    }
   ],
   "source": [
    "'''\n",
    "Given a string s, find the longest palindromic substring in s. You may assume that the maximum length of s is 1000.\n",
    "\n",
    "Example 1:\n",
    "\n",
    "Input: \"babad\"\n",
    "Output: \"bab\"\n",
    "Note: \"aba\" is also a valid answer.\n",
    "\n",
    "Example 2:\n",
    "\n",
    "Input: \"cbbd\"\n",
    "Output: \"bb\"\n",
    "'''"
   ]
  },
  {
   "cell_type": "code",
   "execution_count": 2,
   "metadata": {},
   "outputs": [
    {
     "data": {
      "text/plain": [
       "'\\n兩種條件：1. 中間有字母，以中間字幕做對稱，2. 兩個字母彼此對稱\\n\\n做法：\\n    1. 需要一個helper function\\n    要比較左右兩邊是否一樣，一樣的話就繼續往外比較\\n    當條件不滿足時return得到的string\\n    \\n    2. for 迴圈\\n    一定要go over所有字母：要有一層for迴圈\\n    比較字串長度是否比之前拿到的長\\n    Yes: 取代之前長度\\n    No: 就繼續\\n\\n怎麼處理兩種條件：\\n    一個是以自己本身為主軸(自己同時是左也是右)\\n    另一個是(自己是左，下一個是右)\\n\\n'"
      ]
     },
     "execution_count": 2,
     "metadata": {},
     "output_type": "execute_result"
    }
   ],
   "source": [
    "'''\n",
    "兩種條件：1. 中間有字母，以中間字幕做對稱，2. 兩個字母彼此對稱\n",
    "\n",
    "做法：\n",
    "    1. 需要一個helper function\n",
    "    要比較左右兩邊是否一樣，一樣的話就繼續往外比較\n",
    "    當條件不滿足時return得到的string\n",
    "    \n",
    "    2. for 迴圈\n",
    "    一定要go over所有字母：要有一層for迴圈\n",
    "    比較字串長度是否比之前拿到的長\n",
    "    Yes: 取代之前長度\n",
    "    No: 就繼續\n",
    "\n",
    "怎麼處理兩種條件：\n",
    "    一個是以自己本身為主軸(自己同時是左也是右)\n",
    "    另一個是(自己是左，下一個是右)\n",
    "\n",
    "參考：\n",
    "    https://www.youtube.com/watch?v=nSFWpXuNfyw\n",
    "    https://www.youtube.com/watch?v=xYBKMV92YrM\n",
    "'''"
   ]
  },
  {
   "cell_type": "code",
   "execution_count": 4,
   "metadata": {},
   "outputs": [],
   "source": [
    "class Solution:\n",
    "    def longestPalindrome(self, s: str) -> str:   # 第二件事情：比較長度，長的更新進來\n",
    "        \n",
    "        result = ''\n",
    "        for i in range(len(s)):  # 一定得go over所有字母，所醫需要for迴圈\n",
    "            case1 = len(self.helper(s,i,i))  # case1: 以自己本身為主軸，同時是左有也是右\n",
    "            if case1 > len(result):\n",
    "                result = self.helper(s,i,i)\n",
    "            \n",
    "            case2 = len(self.helper(s,i,i+1))  # case2: 自己是左，下一個是右\n",
    "            if case2 > len(result):\n",
    "                result = self.helper(s,i,i+1)\n",
    "        return result\n",
    "        \n",
    "    def helper(self, s, l, r):  # 第一件事情：比較兩邊是否一樣\n",
    "        while l >= 0 and r < len(s) and s[l] == s[r]:\n",
    "            l -= 1\n",
    "            r += 1\n",
    "        return s[l+1:r]"
   ]
  },
  {
   "cell_type": "markdown",
   "metadata": {},
   "source": [
    "# Practice"
   ]
  },
  {
   "cell_type": "code",
   "execution_count": 6,
   "metadata": {},
   "outputs": [],
   "source": [
    "'''\n",
    "two cases:\n",
    "    1: see youself as center\n",
    "    2: yourself as left, yourself+1 as right\n",
    "I need something to generate the longest palindromic based on each letter in two cases\n",
    "I need to keep checking if the reusult that be generated is longest (every iteration)\n",
    "    Yes: update\n",
    "    No: continue\n",
    "i need an empty string to store the updating string\n",
    "'''\n",
    "class Solution:\n",
    "    def longestPalindrome(self, s: str) -> str:\n",
    "        update = ''\n",
    "        \n",
    "        case1 = self.helper(s,i,i)\n",
    "        if len(case1) > len(update):\n",
    "                update = self.helper(s,i,i)\n",
    "                \n",
    "        case2 = self.helper(s,i,i+1)\n",
    "        if len(case2) > len(update):\n",
    "            update = self.helper(s,i,i+1)\n",
    "        return update \n",
    "    \n",
    "    def helper(self, s, l, r):\n",
    "        while l>=0 and r<len(s) and s[l] == s[r]:\n",
    "            l -= 1\n",
    "            r += 1\n",
    "        return s[l+1, r]"
   ]
  },
  {
   "cell_type": "code",
   "execution_count": null,
   "metadata": {},
   "outputs": [],
   "source": []
  }
 ],
 "metadata": {
  "kernelspec": {
   "display_name": "Python 3",
   "language": "python",
   "name": "python3"
  },
  "language_info": {
   "codemirror_mode": {
    "name": "ipython",
    "version": 3
   },
   "file_extension": ".py",
   "mimetype": "text/x-python",
   "name": "python",
   "nbconvert_exporter": "python",
   "pygments_lexer": "ipython3",
   "version": "3.7.4"
  }
 },
 "nbformat": 4,
 "nbformat_minor": 2
}
