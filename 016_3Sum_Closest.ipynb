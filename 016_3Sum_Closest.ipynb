{
 "cells": [
  {
   "cell_type": "markdown",
   "metadata": {},
   "source": [
    "# 016. 3Sum Closest"
   ]
  },
  {
   "cell_type": "markdown",
   "metadata": {},
   "source": [
    "https://leetcode.com/problems/3sum-closest/"
   ]
  },
  {
   "cell_type": "code",
   "execution_count": 2,
   "metadata": {},
   "outputs": [],
   "source": [
    "class Solution:\n",
    "    def threeSumClosest(self, nums, target):\n",
    "        \"\"\"\n",
    "        一開始最直接的想法就是 直接三層for迴圈暴力解\n",
    "        但如果使用two pointer的話，就可以從O(**3)變快到O(n**2)\n",
    "        \n",
    "        第一步先sort (two pointer適合在有order的情況下使用)\n",
    "        out = nums[:3]\n",
    "        for i in range(len(nums)): # 固定一個pointer\n",
    "            l, r = i+1, len(nums)-1 兩個pointer\n",
    "            while l < r:\n",
    "                s = sum(nums[i]+nums[l]+nums[r])\n",
    "                if obs(s-target) <abs(out-target):\n",
    "                    out = s\n",
    "                if s > target:\n",
    "                    r-=1\n",
    "                elif s < target:\n",
    "                    l+=1\n",
    "                else:\n",
    "                    return out\n",
    "        return out\n",
    "        \"\"\"\n",
    "        \n",
    "        nums.sort()\n",
    "        res = sum(nums[:3])\n",
    "        for i in range(len(nums)):\n",
    "            l, r = i+1, len(nums)-1\n",
    "            while l < r:\n",
    "                s = sum((nums[i], nums[l], nums[r]))\n",
    "                if abs(s-target) < abs(res-target):\n",
    "                    res = s\n",
    "                if s < target:\n",
    "                    l += 1\n",
    "                elif s > target:\n",
    "                    r -= 1\n",
    "                else: # break early \n",
    "                    return res\n",
    "        return res"
   ]
  },
  {
   "cell_type": "markdown",
   "metadata": {},
   "source": [
    "# Practice"
   ]
  },
  {
   "cell_type": "code",
   "execution_count": 3,
   "metadata": {},
   "outputs": [],
   "source": [
    "class Solution:\n",
    "    def threeSumClosest(self, nums, target):\n",
    "        nums.sort()\n",
    "        result = sum(nums[:3])\n",
    "        for i in range(len(nums)):\n",
    "            l, r = i+1, len(nums)-1\n",
    "            while l < r:\n",
    "                total = nums[i]+nums[l]+nums[r]\n",
    "                if abs(total-target) < abs(result-target):\n",
    "                    result = total\n",
    "                if total > target:\n",
    "                    r-=1\n",
    "                elif total < target:\n",
    "                    l+=1\n",
    "                else:\n",
    "                    return result\n",
    "        return result"
   ]
  },
  {
   "cell_type": "code",
   "execution_count": 1,
   "metadata": {},
   "outputs": [],
   "source": [
    "class Solution:\n",
    "    def threeSumCloset(self, nums, target):\n",
    "        nums.sort()\n",
    "        result = sum(nums[:3])\n",
    "        for i in range(len(nums)):\n",
    "            l, r = i+1, len(nums)-1\n",
    "            while l < r:\n",
    "                total = nums[i]+nums[l]+nums[r]\n",
    "                if abs(total-target) < abs(result-target):\n",
    "                    result = total\n",
    "                if total < target:\n",
    "                    l+=1\n",
    "                elif total > target:\n",
    "                    r-=1\n",
    "                else:\n",
    "                    return result\n",
    "        return result"
   ]
  },
  {
   "cell_type": "code",
   "execution_count": null,
   "metadata": {},
   "outputs": [],
   "source": []
  }
 ],
 "metadata": {
  "kernelspec": {
   "display_name": "Python 3",
   "language": "python",
   "name": "python3"
  },
  "language_info": {
   "codemirror_mode": {
    "name": "ipython",
    "version": 3
   },
   "file_extension": ".py",
   "mimetype": "text/x-python",
   "name": "python",
   "nbconvert_exporter": "python",
   "pygments_lexer": "ipython3",
   "version": "3.7.4"
  }
 },
 "nbformat": 4,
 "nbformat_minor": 2
}
