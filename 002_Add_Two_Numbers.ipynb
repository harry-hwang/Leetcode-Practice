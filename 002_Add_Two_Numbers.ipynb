{
 "cells": [
  {
   "cell_type": "markdown",
   "metadata": {},
   "source": [
    "# 2. Add Two Numbers"
   ]
  },
  {
   "cell_type": "code",
   "execution_count": 1,
   "metadata": {},
   "outputs": [
    {
     "data": {
      "text/plain": [
       "'\\n\\nYou are given two non-empty linked lists representing two non-negative integers. The digits are stored in reverse order and each of their nodes contain a single digit. Add the two numbers and return it as a linked list.\\n\\nYou may assume the two numbers do not contain any leading zero, except the number 0 itself.\\n\\nExample:\\n\\nInput: (2 -> 4 -> 3) + (5 -> 6 -> 4)\\nOutput: 7 -> 0 -> 8\\nExplanation: 342 + 465 = 807.\\n\\n'"
      ]
     },
     "execution_count": 1,
     "metadata": {},
     "output_type": "execute_result"
    }
   ],
   "source": [
    "'''\n",
    "\n",
    "You are given two non-empty linked lists representing two non-negative integers. The digits are stored in reverse order and each of their nodes contain a single digit. Add the two numbers and return it as a linked list.\n",
    "\n",
    "You may assume the two numbers do not contain any leading zero, except the number 0 itself.\n",
    "\n",
    "Example:\n",
    "\n",
    "Input: (2 -> 4 -> 3) + (5 -> 6 -> 4)\n",
    "Output: 7 -> 0 -> 8\n",
    "Explanation: 342 + 465 = 807.\n",
    "\n",
    "'''"
   ]
  },
  {
   "cell_type": "code",
   "execution_count": 4,
   "metadata": {},
   "outputs": [],
   "source": [
    "class ListNode:\n",
    "    def __init__(self, val=0, next=None):\n",
    "        self.val = val\n",
    "        self.next = next\n",
    "\n",
    "class solution():\n",
    "    def addTwoNumbers(self, l1:ListNode, l2:ListNode) -> ListNode:\n",
    "        \n",
    "        dummy = cur = ListNode(0)\n",
    "        summ = 0\n",
    "        while l1 or l2 or summ:\n",
    "            if l1:\n",
    "                summ += l1.val\n",
    "                l1 = l1.next\n",
    "            elif l2:\n",
    "                summ += l2.val\n",
    "                l2 = l2.next\n",
    "            cur.next = ListNode(summ%10)\n",
    "            cur = cur.next\n",
    "            summ //= 10\n",
    "        return dummy.next"
   ]
  },
  {
   "cell_type": "markdown",
   "metadata": {},
   "source": [
    "# Practice"
   ]
  },
  {
   "cell_type": "code",
   "execution_count": 7,
   "metadata": {},
   "outputs": [],
   "source": [
    "class ListNode:\n",
    "    def __init__(self, val = 0, next = None):\n",
    "        self.val = val\n",
    "        self.next = next\n",
    "\n",
    "class Solution():\n",
    "    def addTwoNumbers(self, l1: ListNode, l2: ListNode) -> ListNode:\n",
    "        dummy = cur = ListNode(0)\n",
    "        summ = 0\n",
    "        while l1 or l2 or summ:\n",
    "            if l1:\n",
    "                summ+=l1.val\n",
    "                l1 = l1.next\n",
    "            if l2:\n",
    "                summ+=l2.val\n",
    "                l2 = l2.next\n",
    "            cur.next = ListNode(summ%10)\n",
    "            cur = cur.next\n",
    "            summ //= 10\n",
    "        return dummy.next"
   ]
  },
  {
   "cell_type": "code",
   "execution_count": 8,
   "metadata": {},
   "outputs": [],
   "source": [
    "class ListNode():\n",
    "    def __init__(self, val = 0, next=None):\n",
    "        self.val = val\n",
    "        self.next = next\n",
    "        \n",
    "class Solutions:\n",
    "    def addTwoNumbers(self, l1: ListNode, l2:ListNode) -> ListNode:\n",
    "        dummy = cur = ListNode(0)\n",
    "        summ = 0\n",
    "        while l1 or l2 or summ:\n",
    "            if l1:\n",
    "                summ+=l1.val\n",
    "                l1 = l1.next\n",
    "            if l2:\n",
    "                summ+=l2.val\n",
    "                l2 = l2.next\n",
    "            cur.next = ListNode(summ%10)\n",
    "            cur = cur.next\n",
    "        return dummy.next"
   ]
  },
  {
   "cell_type": "code",
   "execution_count": null,
   "metadata": {},
   "outputs": [],
   "source": []
  }
 ],
 "metadata": {
  "kernelspec": {
   "display_name": "Python 3",
   "language": "python",
   "name": "python3"
  },
  "language_info": {
   "codemirror_mode": {
    "name": "ipython",
    "version": 3
   },
   "file_extension": ".py",
   "mimetype": "text/x-python",
   "name": "python",
   "nbconvert_exporter": "python",
   "pygments_lexer": "ipython3",
   "version": "3.7.4"
  }
 },
 "nbformat": 4,
 "nbformat_minor": 2
}
